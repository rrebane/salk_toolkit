{
 "cells": [
  {
   "cell_type": "markdown",
   "metadata": {},
   "source": [
    "# Utils\n",
    "> Utility functions with wider use potential"
   ]
  },
  {
   "cell_type": "code",
   "execution_count": null,
   "metadata": {},
   "outputs": [],
   "source": [
    "#| default_exp utils"
   ]
  },
  {
   "cell_type": "code",
   "execution_count": null,
   "metadata": {},
   "outputs": [],
   "source": [
    "#| hide\n",
    "from nbdev.showdoc import *\n",
    "from fastcore.test import *"
   ]
  },
  {
   "cell_type": "code",
   "execution_count": null,
   "metadata": {},
   "outputs": [],
   "source": [
    "#| exporti\n",
    "import json, os\n",
    "import itertools as it\n",
    "from collections import defaultdict\n",
    "\n",
    "import numpy as np\n",
    "import pandas as pd\n",
    "import datetime as dt\n",
    "\n",
    "import altair as alt\n",
    "import matplotlib.colors as mpc\n",
    "from copy import deepcopy\n",
    "\n",
    "from typing import List, Tuple, Dict, Union, Optional"
   ]
  },
  {
   "cell_type": "code",
   "execution_count": null,
   "metadata": {},
   "outputs": [],
   "source": [
    "#| export\n",
    "# Value or Default - returns key value in dict if key in dict, otherwise Mone\n",
    "def vod(d,k,default=None): return d[k] if k in d else default"
   ]
  },
  {
   "cell_type": "code",
   "execution_count": null,
   "metadata": {},
   "outputs": [],
   "source": [
    "#| export\n",
    "\n",
    "# I'm surprised pandas does not have this function but I could not find it. \n",
    "def factorize_w_codes(s, codes):\n",
    "    res = s.replace(dict(zip(codes,range(len(codes)))))\n",
    "    if not s.isin(codes).all(): # Throw an exception if all values were not replaced\n",
    "        vals = set(s) - set(codes)\n",
    "        raise Exception(f'Codes for {s.name} do not match all values: {vals}')\n",
    "    return res.to_numpy()"
   ]
  },
  {
   "cell_type": "code",
   "execution_count": null,
   "metadata": {},
   "outputs": [],
   "source": [
    "#| export\n",
    "\n",
    "# Simple batching of an iterable\n",
    "def batch(iterable, n=1):\n",
    "    l = len(iterable)\n",
    "    for ndx in range(0, l, n):\n",
    "        yield iterable[ndx:min(ndx + n, l)]"
   ]
  },
  {
   "cell_type": "code",
   "execution_count": null,
   "metadata": {},
   "outputs": [],
   "source": [
    "#| export\n",
    "\n",
    "# turn index values into order indices\n",
    "def loc2iloc(index, vals):\n",
    "    d = dict(zip(np.array(index),range(len(index))))\n",
    "    return [ d[v] for v in vals ]"
   ]
  },
  {
   "cell_type": "code",
   "execution_count": null,
   "metadata": {},
   "outputs": [],
   "source": [
    "#| export\n",
    "\n",
    "# Allow 'constants' entries in the dict to provide replacement mappings\n",
    "# This leads to much more readable jsons as repetitions can be avoided\n",
    "def replace_constants(d, constants = {}, inplace=False):\n",
    "    if not inplace: d = deepcopy(d)\n",
    "    if type(d)==dict and 'constants' in d:\n",
    "        constants = constants.copy() # Otherwise it would propagate back up through recursion - see test6 below\n",
    "        constants.update(d['constants'])\n",
    "        del d['constants']\n",
    "\n",
    "    for k, v in (d.items() if type(d)==dict else enumerate(d)):\n",
    "        if type(v)==str and v in constants:\n",
    "            d[k] = constants[v]\n",
    "        elif type(v)==dict or type(v)==list:\n",
    "            d[k] = replace_constants(v,constants, inplace=True)\n",
    "            \n",
    "    return d"
   ]
  },
  {
   "cell_type": "code",
   "execution_count": null,
   "metadata": {},
   "outputs": [],
   "source": [
    "# Test replace_constants\n",
    "d = {\n",
    "    'constants': { 'a': {'a':1}, 'b':['b'] },\n",
    "    'test1': 'a',\n",
    "    'test2': [1,'b'],\n",
    "    'test3': { 'xy': 'a' },\n",
    "    'test4': { 'xy': [2, 'b'] },\n",
    "    'test5': { 'constants': {'a': ['a'] }, 'x':'a' },\n",
    "    'test6': 'a'\n",
    "}\n",
    "dr = replace_constants(d)\n",
    "assert dr == {'test1': {'a': 1}, 'test2': [1, ['b']], 'test3': {'xy': {'a': 1}}, 'test4': {'xy': [2, ['b']]}, 'test5': {'x': ['a']}, 'test6': {'a': 1}}"
   ]
  },
  {
   "cell_type": "code",
   "execution_count": null,
   "metadata": {},
   "outputs": [],
   "source": [
    "#| export\n",
    "\n",
    "# JSON encoder needed to convert pandas indices into lists for serialization\n",
    "def index_encoder(z):\n",
    "    if isinstance(z, pd.Index):\n",
    "        return list(z)\n",
    "    else:\n",
    "        type_name = z.__class__.__name__\n",
    "        raise TypeError(f\"Object of type {type_name} is not serializable\")"
   ]
  },
  {
   "cell_type": "code",
   "execution_count": null,
   "metadata": {},
   "outputs": [],
   "source": [
    "#| export\n",
    "\n",
    "# Helper function to turn a dictionary into an Altair scale (or None into alt.Undefined)\n",
    "def to_alt_scale(scale):\n",
    "    if scale is None: scale = alt.Undefined\n",
    "    if isinstance(scale,dict):\n",
    "        scale = alt.Scale(domain=list(scale.keys()),range=list(scale.values()))\n",
    "    return scale"
   ]
  },
  {
   "cell_type": "code",
   "execution_count": null,
   "metadata": {},
   "outputs": [],
   "source": [
    "#| export\n",
    "\n",
    "# Turn a question with multiple variants all of which are in distinct columns into a two columns - one with response, the other with which question variant was used\n",
    "\n",
    "def multicol_to_vals_cats(df, cols=None, col_prefix=None, reverse_cols=[], reverse_suffixes=None, cat_order=None, vals_name='vals', cats_name='cats', inplace=False):\n",
    "    if not inplace: df = df.copy()\n",
    "    if cols is None: cols = [ c for c in df.columns if c.startswith(col_prefix)]\n",
    "    \n",
    "    if not reverse_cols and reverse_suffixes is not None:\n",
    "        reverse_cols = [ c for c in cols for rs in reverse_suffixes if c.endswith(rs)]\n",
    "    \n",
    "    if reverse_cols:\n",
    "        remap = dict(zip(cat_order,reversed(cat_order)))\n",
    "        df.loc[:,reverse_cols].replace(remap,inplace=True)\n",
    "    \n",
    "    tdf = df[cols]\n",
    "    cinds = np.argmax(tdf.notna(),axis=1)\n",
    "    df.loc[:,vals_name] = np.array(tdf)[range(len(tdf)),cinds]\n",
    "    df.loc[:,cats_name] = np.array(tdf.columns)[cinds]\n",
    "    return df"
   ]
  },
  {
   "cell_type": "code",
   "execution_count": null,
   "metadata": {},
   "outputs": [],
   "source": [
    "#| export\n",
    "\n",
    "# Grad is a list of colors\n",
    "def gradient_to_discrete_color_scale( grad, num_colors):\n",
    "    cmap = mpc.LinearSegmentedColormap.from_list('grad',grad)\n",
    "    return [mpc.to_hex(cmap(i)) for i in np.linspace(0, 1, num_colors)]"
   ]
  },
  {
   "cell_type": "code",
   "execution_count": null,
   "metadata": {},
   "outputs": [
    {
     "data": {
      "text/plain": [
       "['#ff0000', '#ffaa00', '#aaff00', '#00ff00']"
      ]
     },
     "execution_count": null,
     "metadata": {},
     "output_type": "execute_result"
    }
   ],
   "source": [
    "assert gradient_to_discrete_color_scale(['#ff0000','#ffff00','#00ff00'],4) == ['#ff0000', '#ffaa00', '#aaff00', '#00ff00']"
   ]
  },
  {
   "cell_type": "code",
   "execution_count": null,
   "metadata": {},
   "outputs": [],
   "source": [
    "#| hide\n",
    "import nbdev; nbdev.nbdev_export()"
   ]
  }
 ],
 "metadata": {
  "kernelspec": {
   "display_name": "python3",
   "language": "python",
   "name": "python3"
  }
 },
 "nbformat": 4,
 "nbformat_minor": 4
}
