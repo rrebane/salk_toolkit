{
 "cells": [
  {
   "cell_type": "markdown",
   "metadata": {},
   "source": [
    "# Utils\n",
    "> Utility functions with wider use potential"
   ]
  },
  {
   "cell_type": "code",
   "execution_count": null,
   "metadata": {},
   "outputs": [],
   "source": [
    "#| default_exp utils"
   ]
  },
  {
   "cell_type": "code",
   "execution_count": null,
   "metadata": {},
   "outputs": [],
   "source": [
    "#| hide\n",
    "from nbdev.showdoc import *\n",
    "from fastcore.test import *"
   ]
  },
  {
   "cell_type": "code",
   "execution_count": null,
   "metadata": {},
   "outputs": [],
   "source": [
    "#| exporti\n",
    "import json, os\n",
    "import itertools as it\n",
    "from collections import defaultdict\n",
    "\n",
    "import numpy as np\n",
    "import pandas as pd\n",
    "import datetime as dt\n",
    "\n",
    "import altair as alt\n",
    "\n",
    "from typing import List, Tuple, Dict, Union, Optional"
   ]
  },
  {
   "cell_type": "code",
   "execution_count": null,
   "metadata": {},
   "outputs": [],
   "source": [
    "#| export\n",
    "# Value or Default - returns key value in dict if key in dict, otherwise Mone\n",
    "def vod(d,k,default=None): return d[k] if k in d else default"
   ]
  },
  {
   "cell_type": "code",
   "execution_count": null,
   "metadata": {},
   "outputs": [],
   "source": [
    "#| export\n",
    "\n",
    "# I'm surprised pandas does not have this function but I could not find it. \n",
    "def factorize_w_codes(s, codes):\n",
    "    res = s.replace(dict(zip(codes,range(len(codes)))))\n",
    "    if not s.isin(codes).all(): # Throw an exception if all values were not replaced\n",
    "        vals = set(s) - set(codes)\n",
    "        raise Exception(f'Codes for {s.name} do not match all values: {vals}')\n",
    "    return res.to_numpy()"
   ]
  },
  {
   "cell_type": "code",
   "execution_count": null,
   "metadata": {},
   "outputs": [],
   "source": [
    "#| export\n",
    "\n",
    "# Simple batching of an iterable\n",
    "def batch(iterable, n=1):\n",
    "    l = len(iterable)\n",
    "    for ndx in range(0, l, n):\n",
    "        yield iterable[ndx:min(ndx + n, l)]"
   ]
  },
  {
   "cell_type": "code",
   "execution_count": null,
   "metadata": {},
   "outputs": [],
   "source": [
    "#| export\n",
    "\n",
    "# turn index values into order indices\n",
    "def loc2iloc(index, vals):\n",
    "    d = dict(zip(np.array(index),range(len(index))))\n",
    "    return [ d[v] for v in vals ]"
   ]
  },
  {
   "cell_type": "code",
   "execution_count": null,
   "metadata": {},
   "outputs": [],
   "source": [
    "#| export\n",
    "\n",
    "# Allow 'constants' entries in the dict to provide replacement mappings\n",
    "# This leads to much more readable jsons as repetitions can be avoided\n",
    "def replace_constants(d, constants = {}):\n",
    "    if type(d)==dict and 'constants' in d:\n",
    "        constants = constants.copy() # Otherwise it would propagate back up through recursion - see test6 below\n",
    "        constants.update(d['constants'])\n",
    "        del d['constants']\n",
    "\n",
    "    for k, v in (d.items() if type(d)==dict else enumerate(d)):\n",
    "        if type(v)==str and v in constants:\n",
    "            d[k] = constants[v]\n",
    "        elif type(v)==dict or type(v)==list:\n",
    "            replace_constants(v,constants)"
   ]
  },
  {
   "cell_type": "code",
   "execution_count": null,
   "metadata": {},
   "outputs": [],
   "source": [
    "# Test replace_constants\n",
    "d = {\n",
    "    'constants': { 'a': {'a':1}, 'b':['b'] },\n",
    "    'test1': 'a',\n",
    "    'test2': [1,'b'],\n",
    "    'test3': { 'xy': 'a' },\n",
    "    'test4': { 'xy': [2, 'b'] },\n",
    "    'test5': { 'constants': {'a': ['a'] }, 'x':'a' },\n",
    "    'test6': 'a'\n",
    "}\n",
    "replace_constants(d)\n",
    "assert d == {'test1': {'a': 1}, 'test2': [1, ['b']], 'test3': {'xy': {'a': 1}}, 'test4': {'xy': [2, ['b']]}, 'test5': {'x': ['a']}, 'test6': {'a': 1}}"
   ]
  },
  {
   "cell_type": "code",
   "execution_count": null,
   "metadata": {},
   "outputs": [],
   "source": [
    "#| export\n",
    "\n",
    "# JSON encoder needed to convert pandas indices into lists for serialization\n",
    "def index_encoder(z):\n",
    "    if isinstance(z, pd.Index):\n",
    "        return list(z)\n",
    "    else:\n",
    "        type_name = z.__class__.__name__\n",
    "        raise TypeError(f\"Object of type {type_name} is not serializable\")"
   ]
  },
  {
   "cell_type": "code",
   "execution_count": null,
   "metadata": {},
   "outputs": [],
   "source": [
    "#| export\n",
    "\n",
    "# Helper function to turn a dictionary into an Altair scale (or None into alt.Undefined)\n",
    "def to_alt_scale(scale):\n",
    "    if scale is None: scale = alt.Undefined\n",
    "    if isinstance(scale,dict):\n",
    "        scale = alt.Scale(domain=list(scale.keys()),range=list(scale.values()))\n",
    "    return scale"
   ]
  },
  {
   "cell_type": "code",
   "execution_count": null,
   "metadata": {},
   "outputs": [],
   "source": [
    "#| hide\n",
    "import nbdev; nbdev.nbdev_export()"
   ]
  }
 ],
 "metadata": {
  "kernelspec": {
   "display_name": "python3",
   "language": "python",
   "name": "python3"
  }
 },
 "nbformat": 4,
 "nbformat_minor": 4
}
